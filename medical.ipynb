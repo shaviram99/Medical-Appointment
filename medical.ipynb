{
 "cells": [
  {
   "cell_type": "code",
   "execution_count": 41,
   "metadata": {},
   "outputs": [],
   "source": [
    "import pandas as pd\n",
    "import numpy as np\n",
    "import matplotlib.pyplot as plt\n",
    "import seaborn as sns"
   ]
  },
  {
   "attachments": {},
   "cell_type": "markdown",
   "metadata": {},
   "source": [
    "# load"
   ]
  },
  {
   "cell_type": "code",
   "execution_count": 42,
   "metadata": {},
   "outputs": [
    {
     "name": "stdout",
     "output_type": "stream",
     "text": [
      "<class 'pandas.core.frame.DataFrame'>\n",
      "RangeIndex: 110527 entries, 0 to 110526\n",
      "Data columns (total 14 columns):\n",
      " #   Column          Non-Null Count   Dtype  \n",
      "---  ------          --------------   -----  \n",
      " 0   PatientId       110527 non-null  float64\n",
      " 1   AppointmentID   110527 non-null  int64  \n",
      " 2   Gender          110527 non-null  object \n",
      " 3   ScheduledDay    110527 non-null  object \n",
      " 4   AppointmentDay  110527 non-null  object \n",
      " 5   Age             110527 non-null  int64  \n",
      " 6   Neighbourhood   110527 non-null  object \n",
      " 7   Scholarship     110527 non-null  int64  \n",
      " 8   Hipertension    110527 non-null  int64  \n",
      " 9   Diabetes        110527 non-null  int64  \n",
      " 10  Alcoholism      110527 non-null  int64  \n",
      " 11  Handcap         110527 non-null  int64  \n",
      " 12  SMS_received    110527 non-null  int64  \n",
      " 13  No-show         110527 non-null  object \n",
      "dtypes: float64(1), int64(8), object(5)\n",
      "memory usage: 11.8+ MB\n"
     ]
    },
    {
     "data": {
      "text/html": [
       "<div>\n",
       "<style scoped>\n",
       "    .dataframe tbody tr th:only-of-type {\n",
       "        vertical-align: middle;\n",
       "    }\n",
       "\n",
       "    .dataframe tbody tr th {\n",
       "        vertical-align: top;\n",
       "    }\n",
       "\n",
       "    .dataframe thead th {\n",
       "        text-align: right;\n",
       "    }\n",
       "</style>\n",
       "<table border=\"1\" class=\"dataframe\">\n",
       "  <thead>\n",
       "    <tr style=\"text-align: right;\">\n",
       "      <th></th>\n",
       "      <th>PatientId</th>\n",
       "      <th>AppointmentID</th>\n",
       "      <th>Gender</th>\n",
       "      <th>ScheduledDay</th>\n",
       "      <th>AppointmentDay</th>\n",
       "      <th>Age</th>\n",
       "      <th>Neighbourhood</th>\n",
       "      <th>Scholarship</th>\n",
       "      <th>Hipertension</th>\n",
       "      <th>Diabetes</th>\n",
       "      <th>Alcoholism</th>\n",
       "      <th>Handcap</th>\n",
       "      <th>SMS_received</th>\n",
       "      <th>No-show</th>\n",
       "    </tr>\n",
       "  </thead>\n",
       "  <tbody>\n",
       "    <tr>\n",
       "      <th>0</th>\n",
       "      <td>2.987250e+13</td>\n",
       "      <td>5642903</td>\n",
       "      <td>F</td>\n",
       "      <td>2016-04-29T18:38:08Z</td>\n",
       "      <td>2016-04-29T00:00:00Z</td>\n",
       "      <td>62</td>\n",
       "      <td>JARDIM DA PENHA</td>\n",
       "      <td>0</td>\n",
       "      <td>1</td>\n",
       "      <td>0</td>\n",
       "      <td>0</td>\n",
       "      <td>0</td>\n",
       "      <td>0</td>\n",
       "      <td>No</td>\n",
       "    </tr>\n",
       "    <tr>\n",
       "      <th>1</th>\n",
       "      <td>5.589978e+14</td>\n",
       "      <td>5642503</td>\n",
       "      <td>M</td>\n",
       "      <td>2016-04-29T16:08:27Z</td>\n",
       "      <td>2016-04-29T00:00:00Z</td>\n",
       "      <td>56</td>\n",
       "      <td>JARDIM DA PENHA</td>\n",
       "      <td>0</td>\n",
       "      <td>0</td>\n",
       "      <td>0</td>\n",
       "      <td>0</td>\n",
       "      <td>0</td>\n",
       "      <td>0</td>\n",
       "      <td>No</td>\n",
       "    </tr>\n",
       "    <tr>\n",
       "      <th>2</th>\n",
       "      <td>4.262962e+12</td>\n",
       "      <td>5642549</td>\n",
       "      <td>F</td>\n",
       "      <td>2016-04-29T16:19:04Z</td>\n",
       "      <td>2016-04-29T00:00:00Z</td>\n",
       "      <td>62</td>\n",
       "      <td>MATA DA PRAIA</td>\n",
       "      <td>0</td>\n",
       "      <td>0</td>\n",
       "      <td>0</td>\n",
       "      <td>0</td>\n",
       "      <td>0</td>\n",
       "      <td>0</td>\n",
       "      <td>No</td>\n",
       "    </tr>\n",
       "    <tr>\n",
       "      <th>3</th>\n",
       "      <td>8.679512e+11</td>\n",
       "      <td>5642828</td>\n",
       "      <td>F</td>\n",
       "      <td>2016-04-29T17:29:31Z</td>\n",
       "      <td>2016-04-29T00:00:00Z</td>\n",
       "      <td>8</td>\n",
       "      <td>PONTAL DE CAMBURI</td>\n",
       "      <td>0</td>\n",
       "      <td>0</td>\n",
       "      <td>0</td>\n",
       "      <td>0</td>\n",
       "      <td>0</td>\n",
       "      <td>0</td>\n",
       "      <td>No</td>\n",
       "    </tr>\n",
       "    <tr>\n",
       "      <th>4</th>\n",
       "      <td>8.841186e+12</td>\n",
       "      <td>5642494</td>\n",
       "      <td>F</td>\n",
       "      <td>2016-04-29T16:07:23Z</td>\n",
       "      <td>2016-04-29T00:00:00Z</td>\n",
       "      <td>56</td>\n",
       "      <td>JARDIM DA PENHA</td>\n",
       "      <td>0</td>\n",
       "      <td>1</td>\n",
       "      <td>1</td>\n",
       "      <td>0</td>\n",
       "      <td>0</td>\n",
       "      <td>0</td>\n",
       "      <td>No</td>\n",
       "    </tr>\n",
       "  </tbody>\n",
       "</table>\n",
       "</div>"
      ],
      "text/plain": [
       "      PatientId  AppointmentID Gender          ScheduledDay  \\\n",
       "0  2.987250e+13        5642903      F  2016-04-29T18:38:08Z   \n",
       "1  5.589978e+14        5642503      M  2016-04-29T16:08:27Z   \n",
       "2  4.262962e+12        5642549      F  2016-04-29T16:19:04Z   \n",
       "3  8.679512e+11        5642828      F  2016-04-29T17:29:31Z   \n",
       "4  8.841186e+12        5642494      F  2016-04-29T16:07:23Z   \n",
       "\n",
       "         AppointmentDay  Age      Neighbourhood  Scholarship  Hipertension  \\\n",
       "0  2016-04-29T00:00:00Z   62    JARDIM DA PENHA            0             1   \n",
       "1  2016-04-29T00:00:00Z   56    JARDIM DA PENHA            0             0   \n",
       "2  2016-04-29T00:00:00Z   62      MATA DA PRAIA            0             0   \n",
       "3  2016-04-29T00:00:00Z    8  PONTAL DE CAMBURI            0             0   \n",
       "4  2016-04-29T00:00:00Z   56    JARDIM DA PENHA            0             1   \n",
       "\n",
       "   Diabetes  Alcoholism  Handcap  SMS_received No-show  \n",
       "0         0           0        0             0      No  \n",
       "1         0           0        0             0      No  \n",
       "2         0           0        0             0      No  \n",
       "3         0           0        0             0      No  \n",
       "4         1           0        0             0      No  "
      ]
     },
     "execution_count": 42,
     "metadata": {},
     "output_type": "execute_result"
    }
   ],
   "source": [
    "sample_1 = pd.read_csv(r'C:\\Users\\LENOVO\\Documents\\revou\\Portofolio\\Medical\\KaggleV2-May-2016.csv', index_col=False)\n",
    "sample_1.info()\n",
    "sample_1.head()"
   ]
  },
  {
   "cell_type": "code",
   "execution_count": 43,
   "metadata": {},
   "outputs": [
    {
     "name": "stdout",
     "output_type": "stream",
     "text": [
      "8.221459e+14    88\n",
      "9.963767e+10    84\n",
      "2.688613e+13    70\n",
      "3.353478e+13    65\n",
      "6.264199e+12    62\n",
      "                ..\n",
      "8.622636e+11     1\n",
      "9.267587e+12     1\n",
      "5.764356e+12     1\n",
      "5.712491e+12     1\n",
      "1.557663e+13     1\n",
      "Name: PatientId, Length: 62299, dtype: int64 \n",
      "\n",
      "5642903    1\n",
      "5692618    1\n",
      "5687640    1\n",
      "5740664    1\n",
      "5740598    1\n",
      "          ..\n",
      "5718442    1\n",
      "5426425    1\n",
      "5424230    1\n",
      "5720832    1\n",
      "5629448    1\n",
      "Name: AppointmentID, Length: 110527, dtype: int64 \n",
      "\n",
      "F    71840\n",
      "M    38687\n",
      "Name: Gender, dtype: int64 \n",
      "\n",
      "2016-05-06T07:09:54Z    24\n",
      "2016-05-06T07:09:53Z    23\n",
      "2016-04-25T17:18:27Z    22\n",
      "2016-04-25T17:17:46Z    22\n",
      "2016-04-25T17:17:23Z    19\n",
      "                        ..\n",
      "2016-05-02T09:53:25Z     1\n",
      "2016-05-30T09:12:28Z     1\n",
      "2016-05-16T09:10:04Z     1\n",
      "2016-05-09T10:17:48Z     1\n",
      "2016-04-27T13:30:56Z     1\n",
      "Name: ScheduledDay, Length: 103549, dtype: int64 \n",
      "\n",
      "2016-06-06T00:00:00Z    4692\n",
      "2016-05-16T00:00:00Z    4613\n",
      "2016-05-09T00:00:00Z    4520\n",
      "2016-05-30T00:00:00Z    4514\n",
      "2016-06-08T00:00:00Z    4479\n",
      "2016-05-11T00:00:00Z    4474\n",
      "2016-06-01T00:00:00Z    4464\n",
      "2016-06-07T00:00:00Z    4416\n",
      "2016-05-12T00:00:00Z    4394\n",
      "2016-05-02T00:00:00Z    4376\n",
      "2016-05-18T00:00:00Z    4373\n",
      "2016-05-17T00:00:00Z    4372\n",
      "2016-06-02T00:00:00Z    4310\n",
      "2016-05-10T00:00:00Z    4308\n",
      "2016-05-31T00:00:00Z    4279\n",
      "2016-05-05T00:00:00Z    4273\n",
      "2016-05-19T00:00:00Z    4270\n",
      "2016-05-03T00:00:00Z    4256\n",
      "2016-05-04T00:00:00Z    4168\n",
      "2016-06-03T00:00:00Z    4090\n",
      "2016-05-24T00:00:00Z    4009\n",
      "2016-05-13T00:00:00Z    3987\n",
      "2016-05-25T00:00:00Z    3909\n",
      "2016-05-06T00:00:00Z    3879\n",
      "2016-05-20T00:00:00Z    3828\n",
      "2016-04-29T00:00:00Z    3235\n",
      "2016-05-14T00:00:00Z      39\n",
      "Name: AppointmentDay, dtype: int64 \n",
      "\n",
      " 0      3539\n",
      " 1      2273\n",
      " 52     1746\n",
      " 49     1652\n",
      " 53     1651\n",
      "        ... \n",
      " 115       5\n",
      " 100       4\n",
      " 102       2\n",
      " 99        1\n",
      "-1         1\n",
      "Name: Age, Length: 104, dtype: int64 \n",
      "\n",
      "JARDIM CAMBURI                 7717\n",
      "MARIA ORTIZ                    5805\n",
      "RESISTÊNCIA                    4431\n",
      "JARDIM DA PENHA                3877\n",
      "ITARARÉ                        3514\n",
      "                               ... \n",
      "ILHA DO BOI                      35\n",
      "ILHA DO FRADE                    10\n",
      "AEROPORTO                         8\n",
      "ILHAS OCEÂNICAS DE TRINDADE       2\n",
      "PARQUE INDUSTRIAL                 1\n",
      "Name: Neighbourhood, Length: 81, dtype: int64 \n",
      "\n",
      "0    99666\n",
      "1    10861\n",
      "Name: Scholarship, dtype: int64 \n",
      "\n",
      "0    88726\n",
      "1    21801\n",
      "Name: Hipertension, dtype: int64 \n",
      "\n",
      "0    102584\n",
      "1      7943\n",
      "Name: Diabetes, dtype: int64 \n",
      "\n",
      "0    107167\n",
      "1      3360\n",
      "Name: Alcoholism, dtype: int64 \n",
      "\n",
      "0    108286\n",
      "1      2042\n",
      "2       183\n",
      "3        13\n",
      "4         3\n",
      "Name: Handcap, dtype: int64 \n",
      "\n",
      "0    75045\n",
      "1    35482\n",
      "Name: SMS_received, dtype: int64 \n",
      "\n",
      "No     88208\n",
      "Yes    22319\n",
      "Name: No-show, dtype: int64 \n",
      "\n"
     ]
    }
   ],
   "source": [
    "for i in sample_1.columns:\n",
    "  unique_data = sample_1[i].value_counts()\n",
    "  print(unique_data,'\\n')"
   ]
  },
  {
   "cell_type": "code",
   "execution_count": 44,
   "metadata": {},
   "outputs": [],
   "source": [
    "# import pandas as pd\n",
    "# import string\n",
    "# import random\n",
    "\n",
    "# # Assuming 'sample_1' is your DataFrame with the 'Neighbourhood' column\n",
    "# # Replace 'sample_1' with the actual name of your DataFrame\n",
    "\n",
    "# # Get the unique 'Neighbourhood' values\n",
    "# unique_neighbourhoods = sample_1['Neighbourhood'].unique()\n",
    "\n",
    "# # Generate unique IDs for each 'Neighbourhood'\n",
    "# id_prefix = 'reg_'  # Prefix for the IDs\n",
    "# id_length = 6  # Length of the random portion of the IDs\n",
    "\n",
    "# # Create a dictionary to store the mapping of 'Neighbourhood' to ID\n",
    "# neighbourhood_id_map = {}\n",
    "\n",
    "# for neighbourhood in unique_neighbourhoods:\n",
    "#     # Generate a random ID for the 'Neighbourhood'\n",
    "#     random_id = ''.join(random.choices(string.ascii_lowercase + string.digits, k=id_length))\n",
    "#     region_id = id_prefix + random_id\n",
    "    \n",
    "#     # Store the mapping in the dictionary\n",
    "#     neighbourhood_id_map[neighbourhood] = region_id\n",
    "\n",
    "# # Assign the unique IDs to the 'Neighbourhood' column\n",
    "# sample_1['Neighbourhood'] = sample_1['Neighbourhood'].map(neighbourhood_id_map)\n",
    "\n",
    "# # Display the updated DataFrame\n",
    "# print(sample_1)\n"
   ]
  },
  {
   "cell_type": "code",
   "execution_count": 45,
   "metadata": {},
   "outputs": [],
   "source": [
    "# sample_1['Neighbourhood'].value_counts()"
   ]
  },
  {
   "cell_type": "code",
   "execution_count": 46,
   "metadata": {},
   "outputs": [
    {
     "name": "stdout",
     "output_type": "stream",
     "text": [
      "<class 'pandas.core.frame.DataFrame'>\n",
      "RangeIndex: 110527 entries, 0 to 110526\n",
      "Data columns (total 14 columns):\n",
      " #   Column          Non-Null Count   Dtype  \n",
      "---  ------          --------------   -----  \n",
      " 0   PatientId       110527 non-null  float64\n",
      " 1   AppointmentID   110527 non-null  int64  \n",
      " 2   Gender          110527 non-null  object \n",
      " 3   ScheduledDay    110527 non-null  object \n",
      " 4   AppointmentDay  110527 non-null  object \n",
      " 5   Age             110527 non-null  int64  \n",
      " 6   Neighbourhood   110527 non-null  object \n",
      " 7   Scholarship     110527 non-null  int64  \n",
      " 8   Hipertension    110527 non-null  int64  \n",
      " 9   Diabetes        110527 non-null  int64  \n",
      " 10  Alcoholism      110527 non-null  int64  \n",
      " 11  Handcap         110527 non-null  int64  \n",
      " 12  SMS_received    110527 non-null  int64  \n",
      " 13  No-show         110527 non-null  object \n",
      "dtypes: float64(1), int64(8), object(5)\n",
      "memory usage: 11.8+ MB\n"
     ]
    }
   ],
   "source": [
    "sample_1.info()"
   ]
  },
  {
   "cell_type": "code",
   "execution_count": 47,
   "metadata": {},
   "outputs": [],
   "source": [
    "# sample_2 = pd.read_csv(r'C:\\Users\\LENOVO\\Documents\\revou\\Portofolio\\Medical\\Physical_Therapist_in_Private_Practice.csv', index_col=False)\n",
    "# sample_2.info()\n",
    "# sample_2.head()"
   ]
  },
  {
   "cell_type": "code",
   "execution_count": 48,
   "metadata": {},
   "outputs": [],
   "source": [
    "# for i in sample_2.columns:\n",
    "#   unique_data = sample_2[i].value_counts()\n",
    "#   print(unique_data,'\\n')"
   ]
  },
  {
   "cell_type": "code",
   "execution_count": 49,
   "metadata": {},
   "outputs": [],
   "source": [
    "# # Randomly select 81 rows from 'sample_2'\n",
    "# subset_sample_2 = sample_2.sample(n=81, random_state=42).reset_index()  # Adjust the random_state for reproducibility\n",
    "# subset_sample_2.info()\n",
    "# subset_sample_2.head()"
   ]
  },
  {
   "cell_type": "code",
   "execution_count": 50,
   "metadata": {},
   "outputs": [],
   "source": [
    "# import pandas as pd\n",
    "# import random\n",
    "\n",
    "# # Assuming 'sample_1' is your DataFrame with the 'Neighbourhood' column\n",
    "# # Assuming 'sample_2' is your DataFrame with the 'zip_code' column\n",
    "# # Replace 'sample_1' and 'sample_2' with the actual names of your DataFrames\n",
    "\n",
    "# # Get the unique neighborhood values from 'sample_1'\n",
    "# unique_neighbourhoods = sample_1['Neighbourhood'].unique()\n",
    "\n",
    "# # Shuffle the unique neighborhood values randomly\n",
    "# random.shuffle(unique_neighbourhoods)\n",
    "\n",
    "# # Assign shuffled neighborhood values to 'sample_2['zip_code']'\n",
    "# subset_sample_2['zip_code'] = unique_neighbourhoods[:len(subset_sample_2)]\n",
    "\n",
    "# # Display the updated DataFrame\n",
    "# print(subset_sample_2)\n"
   ]
  },
  {
   "cell_type": "code",
   "execution_count": 51,
   "metadata": {},
   "outputs": [],
   "source": [
    "# subset_sample_2 = subset_sample_2.drop('index', axis=1)\n",
    "# subset_sample_2 = subset_sample_2.rename(columns={'zip_code':'Neighbourhood'})\n",
    "# # subset_sample_2.info()\n",
    "# subset_sample_2.head()"
   ]
  },
  {
   "attachments": {},
   "cell_type": "markdown",
   "metadata": {},
   "source": [
    "# Merge"
   ]
  },
  {
   "cell_type": "code",
   "execution_count": 52,
   "metadata": {},
   "outputs": [],
   "source": [
    "# df = pd.merge(sample_1, subset_sample_2, how=\"left\", on='Neighbourhood')\n",
    "# df.info()\n",
    "# df.head()"
   ]
  },
  {
   "cell_type": "code",
   "execution_count": 53,
   "metadata": {},
   "outputs": [],
   "source": [
    "# for i in df.columns:\n",
    "#   unique_data = df[i].value_counts()\n",
    "#   print(unique_data,'\\n')"
   ]
  },
  {
   "attachments": {},
   "cell_type": "markdown",
   "metadata": {},
   "source": [
    "# Cleaning"
   ]
  },
  {
   "cell_type": "code",
   "execution_count": 54,
   "metadata": {},
   "outputs": [],
   "source": [
    "df_= sample_1.copy()"
   ]
  },
  {
   "attachments": {},
   "cell_type": "markdown",
   "metadata": {},
   "source": [
    "## remove duplicate"
   ]
  },
  {
   "cell_type": "code",
   "execution_count": 55,
   "metadata": {},
   "outputs": [
    {
     "data": {
      "text/plain": [
       "0"
      ]
     },
     "execution_count": 55,
     "metadata": {},
     "output_type": "execute_result"
    }
   ],
   "source": [
    "df_.duplicated().sum()"
   ]
  },
  {
   "attachments": {},
   "cell_type": "markdown",
   "metadata": {},
   "source": [
    "## recategorize"
   ]
  },
  {
   "attachments": {},
   "cell_type": "markdown",
   "metadata": {},
   "source": [
    "neighbourhood"
   ]
  },
  {
   "cell_type": "code",
   "execution_count": 56,
   "metadata": {},
   "outputs": [],
   "source": [
    "# 'Ilhas Oceâicas de Trindade' will be dropped as it does not belong in the nine administrative regions.\n",
    "df_ = df_[df_.Neighbourhood != 'ILHAS OCEÂNICAS DE TRINDADE']\n"
   ]
  },
  {
   "cell_type": "code",
   "execution_count": 57,
   "metadata": {},
   "outputs": [],
   "source": [
    "# Create a region column for recoding.\n",
    "df_['Region'] = df_.loc[:, 'Neighbourhood']"
   ]
  },
  {
   "cell_type": "code",
   "execution_count": 58,
   "metadata": {},
   "outputs": [],
   "source": [
    "# Recode neighbourhoods to their administrative regions.\n",
    "\n",
    "# Zona Norte\n",
    "df_['Region'] = df_['Region'].replace(['AEROPORTO', 'ANTÔNIO HONÓRIO', 'GOIABEIRAS', 'JABOUR', 'MARIA ORTIZ', 'SEGURANÇA DO LAR', 'SOLON BORGES'], 'ZONA NORTE')\n",
    "\n",
    "# Maruípe\n",
    "df_['Region'] = df_['Region'].replace(['ANDORINHAS', 'BONFIM', 'DA PENHA', 'ITARARÉ', 'JOANA D´ARC', 'MARUÍPE', 'SANTA CECÍLIA', 'SANTA MARTHA', 'SANTOS DUMONT', 'SÃO BENEDITO', 'SÃO CRISTÓVÃO', 'TABUAZEIRO'], 'MARUÍPE')\n",
    "\n",
    "# Santo Antônio\n",
    "df_['Region'] = df_['Region'].replace(['ARIOVALDO FAVALESSA', 'BELA VISTA', 'CARATOÍRA', 'DO CABRAL', 'DO QUADRO', 'ESTRELINHA', 'GRANDE VITÓRIA', 'INHANGUETÁ', 'MÁRIO CYPRESTE', 'SANTO ANTÔNIO', 'SANTA TEREZA', 'UNIVERSITÁRIO'], 'SANTO ANTÔNIO')\n",
    "\n",
    "# Zona Leste\n",
    "df_['Region'] = df_['Region'].replace(['BARRO VERMELHO', 'ENSEADA DO SUÁ', 'ILHA DO BOI', 'ILHA DO FRADE', 'PRAIA DO CANTO', 'PRAIA DO SUÁ', 'SANTA HELENA', 'SANTA LÚCIA', 'SANTA LUÍZA'], 'ZONA LESTE')\n",
    "\n",
    "# Jucutuquara\n",
    "df_['Region'] = df_['Region'].replace(['BENTO FERREIRA', 'CONSOLAÇÃO', 'CRUZAMENTO', 'DE LOURDES', 'FORTE SÃO JOÃO', 'FRADINHOS', 'GURIGICA', 'HORTO', 'ILHA DE SANTA MARIA', 'JESUS DE NAZARETH', 'JUCUTUQUARA', 'MONTE BELO', 'NAZARETH', 'ROMÃO'], 'JUCUTUQUARA')\n",
    "\n",
    "# Jardim da Penha\n",
    "df_['Region'] = df_['Region'].replace(['BOA VISTA', 'JARDIM DA PENHA', 'MATA DA PRAIA', 'MORADA DE CAMBURI', 'PONTAL DE CAMBURI', 'REPÚBLICA'], 'JARDIM DA PENHA')\n",
    "\n",
    "# Zona Sul\n",
    "df_['Region'] = df_['Region'].replace(['CENTRO', 'DO MOSCOSO', 'FONTE GRANDE', 'ILHA DO PRÍNCIPE', 'PARQUE MOSCOSO', 'PIEDADE', 'SANTA CLARA', 'VILA RUBIM'], 'ZONA SUL')\n",
    "\n",
    "# Zona Oeste\n"
   ]
  },
  {
   "attachments": {},
   "cell_type": "markdown",
   "metadata": {},
   "source": [
    "handcap"
   ]
  },
  {
   "cell_type": "code",
   "execution_count": 59,
   "metadata": {},
   "outputs": [
    {
     "data": {
      "text/plain": [
       "0    108284\n",
       "1      2241\n",
       "Name: Handcap, dtype: int64"
      ]
     },
     "execution_count": 59,
     "metadata": {},
     "output_type": "execute_result"
    }
   ],
   "source": [
    "# Given the relatively low percentage of patients with 2 or more handicaps, the variable will be collapsed to a binary with 1 coding for the presence of a disability.\n",
    "df_['Handcap'] = np.where(df_['Handcap'] >= 1, 1, 0)\n",
    "\n",
    "# Check the new Handicap value counts.\n",
    "df_.Handcap.value_counts()"
   ]
  },
  {
   "attachments": {},
   "cell_type": "markdown",
   "metadata": {},
   "source": [
    "## drop"
   ]
  },
  {
   "attachments": {},
   "cell_type": "markdown",
   "metadata": {},
   "source": [
    "age"
   ]
  },
  {
   "cell_type": "code",
   "execution_count": 60,
   "metadata": {},
   "outputs": [
    {
     "data": {
      "text/html": [
       "<div>\n",
       "<style scoped>\n",
       "    .dataframe tbody tr th:only-of-type {\n",
       "        vertical-align: middle;\n",
       "    }\n",
       "\n",
       "    .dataframe tbody tr th {\n",
       "        vertical-align: top;\n",
       "    }\n",
       "\n",
       "    .dataframe thead th {\n",
       "        text-align: right;\n",
       "    }\n",
       "</style>\n",
       "<table border=\"1\" class=\"dataframe\">\n",
       "  <thead>\n",
       "    <tr style=\"text-align: right;\">\n",
       "      <th></th>\n",
       "      <th>PatientId</th>\n",
       "      <th>AppointmentID</th>\n",
       "      <th>Gender</th>\n",
       "      <th>ScheduledDay</th>\n",
       "      <th>AppointmentDay</th>\n",
       "      <th>Age</th>\n",
       "      <th>Neighbourhood</th>\n",
       "      <th>Scholarship</th>\n",
       "      <th>Hipertension</th>\n",
       "      <th>Diabetes</th>\n",
       "      <th>Alcoholism</th>\n",
       "      <th>Handcap</th>\n",
       "      <th>SMS_received</th>\n",
       "      <th>No-show</th>\n",
       "      <th>Region</th>\n",
       "    </tr>\n",
       "  </thead>\n",
       "  <tbody>\n",
       "  </tbody>\n",
       "</table>\n",
       "</div>"
      ],
      "text/plain": [
       "Empty DataFrame\n",
       "Columns: [PatientId, AppointmentID, Gender, ScheduledDay, AppointmentDay, Age, Neighbourhood, Scholarship, Hipertension, Diabetes, Alcoholism, Handcap, SMS_received, No-show, Region]\n",
       "Index: []"
      ]
     },
     "execution_count": 60,
     "metadata": {},
     "output_type": "execute_result"
    }
   ],
   "source": [
    "# Drop the observation having Age == -1.\n",
    "df_ = df_[df_.Age != -1]\n",
    "\n",
    "# Check whether the observation was dropped.\n",
    "df_.query('Age == -1')"
   ]
  },
  {
   "attachments": {},
   "cell_type": "markdown",
   "metadata": {},
   "source": [
    "## missing value"
   ]
  },
  {
   "cell_type": "code",
   "execution_count": 61,
   "metadata": {},
   "outputs": [
    {
     "data": {
      "text/plain": [
       "PatientId         0\n",
       "AppointmentID     0\n",
       "Gender            0\n",
       "ScheduledDay      0\n",
       "AppointmentDay    0\n",
       "Age               0\n",
       "Neighbourhood     0\n",
       "Scholarship       0\n",
       "Hipertension      0\n",
       "Diabetes          0\n",
       "Alcoholism        0\n",
       "Handcap           0\n",
       "SMS_received      0\n",
       "No-show           0\n",
       "Region            0\n",
       "dtype: int64"
      ]
     },
     "execution_count": 61,
     "metadata": {},
     "output_type": "execute_result"
    }
   ],
   "source": [
    "# to check missing values\n",
    "df_.isna().sum()"
   ]
  },
  {
   "attachments": {},
   "cell_type": "markdown",
   "metadata": {},
   "source": [
    "## convert datatype"
   ]
  },
  {
   "cell_type": "code",
   "execution_count": 62,
   "metadata": {},
   "outputs": [
    {
     "name": "stdout",
     "output_type": "stream",
     "text": [
      "8.221459e+14    88\n",
      "9.963767e+10    84\n",
      "2.688613e+13    70\n",
      "3.353478e+13    65\n",
      "6.264199e+12    62\n",
      "                ..\n",
      "8.622636e+11     1\n",
      "9.267587e+12     1\n",
      "5.764356e+12     1\n",
      "5.712491e+12     1\n",
      "1.557663e+13     1\n",
      "Name: PatientId, Length: 62296, dtype: int64 \n",
      "\n",
      "5642903    1\n",
      "5692618    1\n",
      "5687640    1\n",
      "5740664    1\n",
      "5740598    1\n",
      "          ..\n",
      "5426425    1\n",
      "5424230    1\n",
      "5720832    1\n",
      "5626441    1\n",
      "5629448    1\n",
      "Name: AppointmentID, Length: 110524, dtype: int64 \n",
      "\n",
      "F    71837\n",
      "M    38687\n",
      "Name: Gender, dtype: int64 \n",
      "\n",
      "2016-05-06 07:09:54    24\n",
      "2016-05-06 07:09:53    23\n",
      "2016-04-25 17:17:46    22\n",
      "2016-04-25 17:18:27    22\n",
      "2016-04-25 17:17:23    19\n",
      "                       ..\n",
      "2016-05-30 09:12:28     1\n",
      "2016-05-16 09:10:04     1\n",
      "2016-05-09 10:17:48     1\n",
      "2016-05-02 09:50:06     1\n",
      "2016-04-27 13:30:56     1\n",
      "Name: ScheduledDay, Length: 103546, dtype: int64 \n",
      "\n",
      "2016-06-06 00:00:00    4691\n",
      "2016-05-16 00:00:00    4613\n",
      "2016-05-09 00:00:00    4520\n",
      "2016-05-30 00:00:00    4514\n",
      "2016-06-08 00:00:00    4479\n",
      "2016-05-11 00:00:00    4474\n",
      "2016-06-01 00:00:00    4464\n",
      "2016-06-07 00:00:00    4416\n",
      "2016-05-12 00:00:00    4394\n",
      "2016-05-02 00:00:00    4376\n",
      "2016-05-18 00:00:00    4373\n",
      "2016-05-17 00:00:00    4372\n",
      "2016-06-02 00:00:00    4310\n",
      "2016-05-10 00:00:00    4308\n",
      "2016-05-31 00:00:00    4279\n",
      "2016-05-05 00:00:00    4273\n",
      "2016-05-19 00:00:00    4270\n",
      "2016-05-03 00:00:00    4256\n",
      "2016-05-04 00:00:00    4168\n",
      "2016-06-03 00:00:00    4090\n",
      "2016-05-24 00:00:00    4009\n",
      "2016-05-13 00:00:00    3985\n",
      "2016-05-25 00:00:00    3909\n",
      "2016-05-06 00:00:00    3879\n",
      "2016-05-20 00:00:00    3828\n",
      "2016-04-29 00:00:00    3235\n",
      "2016-05-14 00:00:00      39\n",
      "Name: AppointmentDay, dtype: int64 \n",
      "\n",
      "0      3539\n",
      "1      2273\n",
      "52     1746\n",
      "49     1652\n",
      "53     1651\n",
      "       ... \n",
      "98        6\n",
      "115       5\n",
      "100       4\n",
      "102       2\n",
      "99        1\n",
      "Name: Age, Length: 103, dtype: int64 \n",
      "\n",
      "JARDIM CAMBURI       7717\n",
      "MARIA ORTIZ          5805\n",
      "RESISTÊNCIA          4431\n",
      "JARDIM DA PENHA      3877\n",
      "ITARARÉ              3514\n",
      "                     ... \n",
      "PONTAL DE CAMBURI      69\n",
      "ILHA DO BOI            35\n",
      "ILHA DO FRADE          10\n",
      "AEROPORTO               8\n",
      "PARQUE INDUSTRIAL       1\n",
      "Name: Neighbourhood, Length: 80, dtype: int64 \n",
      "\n",
      "0    99663\n",
      "1    10861\n",
      "Name: Scholarship, dtype: int64 \n",
      "\n",
      "0    88723\n",
      "1    21801\n",
      "Name: Hipertension, dtype: int64 \n",
      "\n",
      "0    102581\n",
      "1      7943\n",
      "Name: Diabetes, dtype: int64 \n",
      "\n",
      "0    107164\n",
      "1      3360\n",
      "Name: Alcoholism, dtype: int64 \n",
      "\n",
      "0    108283\n",
      "1      2241\n",
      "Name: Handcap, dtype: int64 \n",
      "\n",
      "0    75042\n",
      "1    35482\n",
      "Name: SMS_received, dtype: int64 \n",
      "\n",
      "No     88207\n",
      "Yes    22317\n",
      "Name: No-show, dtype: int64 \n",
      "\n",
      "MARUÍPE              25357\n",
      "JUCUTUQUARA          16882\n",
      "SANTO ANTÔNIO        13430\n",
      "ZONA NORTE            9907\n",
      "ZONA SUL              9306\n",
      "JARDIM CAMBURI        7717\n",
      "JARDIM DA PENHA       5833\n",
      "RESISTÊNCIA           4431\n",
      "ZONA LESTE            4070\n",
      "SANTO ANDRÉ           2571\n",
      "SÃO PEDRO             2448\n",
      "NOVA PALESTINA        2264\n",
      "SÃO JOSÉ              1977\n",
      "REDENÇÃO              1553\n",
      "ILHA DAS CAIEIRAS     1071\n",
      "CONQUISTA              849\n",
      "SANTOS REIS            547\n",
      "COMDUSA                310\n",
      "PARQUE INDUSTRIAL        1\n",
      "Name: Region, dtype: int64 \n",
      "\n"
     ]
    }
   ],
   "source": [
    "import datetime\n",
    "\n",
    "\n",
    "df_['ScheduledDay'] = df_['ScheduledDay'].str.replace('T', ' ').str.replace('Z', '')\n",
    "df_['AppointmentDay'] = df_['AppointmentDay'].str.replace('T', ' ').str.replace('Z', '')\n",
    "\n",
    "for i in df_.columns:\n",
    "  unique_data = df_[i].value_counts()\n",
    "  print(unique_data,'\\n')"
   ]
  },
  {
   "cell_type": "code",
   "execution_count": 64,
   "metadata": {},
   "outputs": [
    {
     "name": "stdout",
     "output_type": "stream",
     "text": [
      "<class 'pandas.core.frame.DataFrame'>\n",
      "Int64Index: 110524 entries, 0 to 110526\n",
      "Data columns (total 15 columns):\n",
      " #   Column          Non-Null Count   Dtype         \n",
      "---  ------          --------------   -----         \n",
      " 0   PatientId       110524 non-null  object        \n",
      " 1   AppointmentID   110524 non-null  object        \n",
      " 2   Gender          110524 non-null  object        \n",
      " 3   ScheduledDay    110524 non-null  datetime64[ns]\n",
      " 4   AppointmentDay  110524 non-null  datetime64[ns]\n",
      " 5   Age             110524 non-null  int64         \n",
      " 6   Neighbourhood   110524 non-null  object        \n",
      " 7   Scholarship     110524 non-null  bool          \n",
      " 8   Hipertension    110524 non-null  bool          \n",
      " 9   Diabetes        110524 non-null  bool          \n",
      " 10  Alcoholism      110524 non-null  bool          \n",
      " 11  Handcap         110524 non-null  object        \n",
      " 12  SMS_received    110524 non-null  bool          \n",
      " 13  No-show         110524 non-null  object        \n",
      " 14  Region          110524 non-null  object        \n",
      "dtypes: bool(5), datetime64[ns](2), int64(1), object(7)\n",
      "memory usage: 9.8+ MB\n"
     ]
    }
   ],
   "source": [
    "df_['ScheduledDay'] = pd.to_datetime(df_['ScheduledDay'], format='%Y-%m-%d %H:%M:%S')\n",
    "df_['AppointmentDay'] = pd.to_datetime(df_['AppointmentDay'], format='%Y-%m-%d %H:%M:%S')\n",
    "df_[['PatientId', 'AppointmentID', 'Handcap']] = df_[['PatientId', 'AppointmentID', 'Handcap']].astype(str)\n",
    "df_[['Scholarship', 'Hipertension', 'Diabetes', 'Alcoholism', 'SMS_received']] = df_[['Scholarship', 'Hipertension', 'Diabetes', 'Alcoholism', 'SMS_received']].astype(bool)\n",
    "\n",
    "# Display the updated DataFrame information\n",
    "df_.info()"
   ]
  },
  {
   "cell_type": "code",
   "execution_count": 65,
   "metadata": {},
   "outputs": [
    {
     "name": "stdout",
     "output_type": "stream",
     "text": [
      "822145925426128.0    88\n",
      "99637671331.0        84\n",
      "26886125921145.0     70\n",
      "33534783483176.0     65\n",
      "6264198675331.0      62\n",
      "                     ..\n",
      "862263621811.0        1\n",
      "9267587227475.0       1\n",
      "5764355598913.0       1\n",
      "5712491287569.0       1\n",
      "15576631729893.0      1\n",
      "Name: PatientId, Length: 62296, dtype: int64 \n",
      "\n",
      "5642903    1\n",
      "5692618    1\n",
      "5687640    1\n",
      "5740664    1\n",
      "5740598    1\n",
      "          ..\n",
      "5426425    1\n",
      "5424230    1\n",
      "5720832    1\n",
      "5626441    1\n",
      "5629448    1\n",
      "Name: AppointmentID, Length: 110524, dtype: int64 \n",
      "\n",
      "F    71837\n",
      "M    38687\n",
      "Name: Gender, dtype: int64 \n",
      "\n",
      "2016-05-06 07:09:54    24\n",
      "2016-05-06 07:09:53    23\n",
      "2016-04-25 17:17:46    22\n",
      "2016-04-25 17:18:27    22\n",
      "2016-04-25 17:17:23    19\n",
      "                       ..\n",
      "2016-05-30 09:12:28     1\n",
      "2016-05-16 09:10:04     1\n",
      "2016-05-09 10:17:48     1\n",
      "2016-05-02 09:50:06     1\n",
      "2016-04-27 13:30:56     1\n",
      "Name: ScheduledDay, Length: 103546, dtype: int64 \n",
      "\n",
      "2016-06-06    4691\n",
      "2016-05-16    4613\n",
      "2016-05-09    4520\n",
      "2016-05-30    4514\n",
      "2016-06-08    4479\n",
      "2016-05-11    4474\n",
      "2016-06-01    4464\n",
      "2016-06-07    4416\n",
      "2016-05-12    4394\n",
      "2016-05-02    4376\n",
      "2016-05-18    4373\n",
      "2016-05-17    4372\n",
      "2016-06-02    4310\n",
      "2016-05-10    4308\n",
      "2016-05-31    4279\n",
      "2016-05-05    4273\n",
      "2016-05-19    4270\n",
      "2016-05-03    4256\n",
      "2016-05-04    4168\n",
      "2016-06-03    4090\n",
      "2016-05-24    4009\n",
      "2016-05-13    3985\n",
      "2016-05-25    3909\n",
      "2016-05-06    3879\n",
      "2016-05-20    3828\n",
      "2016-04-29    3235\n",
      "2016-05-14      39\n",
      "Name: AppointmentDay, dtype: int64 \n",
      "\n",
      "0      3539\n",
      "1      2273\n",
      "52     1746\n",
      "49     1652\n",
      "53     1651\n",
      "       ... \n",
      "98        6\n",
      "115       5\n",
      "100       4\n",
      "102       2\n",
      "99        1\n",
      "Name: Age, Length: 103, dtype: int64 \n",
      "\n",
      "JARDIM CAMBURI       7717\n",
      "MARIA ORTIZ          5805\n",
      "RESISTÊNCIA          4431\n",
      "JARDIM DA PENHA      3877\n",
      "ITARARÉ              3514\n",
      "                     ... \n",
      "PONTAL DE CAMBURI      69\n",
      "ILHA DO BOI            35\n",
      "ILHA DO FRADE          10\n",
      "AEROPORTO               8\n",
      "PARQUE INDUSTRIAL       1\n",
      "Name: Neighbourhood, Length: 80, dtype: int64 \n",
      "\n",
      "False    99663\n",
      "True     10861\n",
      "Name: Scholarship, dtype: int64 \n",
      "\n",
      "False    88723\n",
      "True     21801\n",
      "Name: Hipertension, dtype: int64 \n",
      "\n",
      "False    102581\n",
      "True       7943\n",
      "Name: Diabetes, dtype: int64 \n",
      "\n",
      "False    107164\n",
      "True       3360\n",
      "Name: Alcoholism, dtype: int64 \n",
      "\n",
      "0    108283\n",
      "1      2241\n",
      "Name: Handcap, dtype: int64 \n",
      "\n",
      "False    75042\n",
      "True     35482\n",
      "Name: SMS_received, dtype: int64 \n",
      "\n",
      "No     88207\n",
      "Yes    22317\n",
      "Name: No-show, dtype: int64 \n",
      "\n",
      "MARUÍPE              25357\n",
      "JUCUTUQUARA          16882\n",
      "SANTO ANTÔNIO        13430\n",
      "ZONA NORTE            9907\n",
      "ZONA SUL              9306\n",
      "JARDIM CAMBURI        7717\n",
      "JARDIM DA PENHA       5833\n",
      "RESISTÊNCIA           4431\n",
      "ZONA LESTE            4070\n",
      "SANTO ANDRÉ           2571\n",
      "SÃO PEDRO             2448\n",
      "NOVA PALESTINA        2264\n",
      "SÃO JOSÉ              1977\n",
      "REDENÇÃO              1553\n",
      "ILHA DAS CAIEIRAS     1071\n",
      "CONQUISTA              849\n",
      "SANTOS REIS            547\n",
      "COMDUSA                310\n",
      "PARQUE INDUSTRIAL        1\n",
      "Name: Region, dtype: int64 \n",
      "\n"
     ]
    }
   ],
   "source": [
    "for i in df_.columns:\n",
    "  unique_data = df_[i].value_counts()\n",
    "  print(unique_data,'\\n')"
   ]
  },
  {
   "attachments": {},
   "cell_type": "markdown",
   "metadata": {},
   "source": [
    "# Save"
   ]
  },
  {
   "cell_type": "code",
   "execution_count": 66,
   "metadata": {},
   "outputs": [
    {
     "name": "stdout",
     "output_type": "stream",
     "text": [
      "None\n"
     ]
    }
   ],
   "source": [
    "dfsave=df_.copy()\n",
    "dfsave = dfsave.to_csv(r'C:\\Users\\LENOVO\\Documents\\revou\\Portofolio\\Medical\\med4_df.csv', index=False, header=True) \n",
    "print(dfsave)"
   ]
  },
  {
   "attachments": {},
   "cell_type": "markdown",
   "metadata": {},
   "source": [
    "# EDA"
   ]
  },
  {
   "attachments": {},
   "cell_type": "markdown",
   "metadata": {},
   "source": [
    "new and repeated patient"
   ]
  },
  {
   "cell_type": "code",
   "execution_count": 37,
   "metadata": {},
   "outputs": [
    {
     "name": "stdout",
     "output_type": "stream",
     "text": [
      "Number of unique patients: \u001b[1m62,296\u001b[0m\n",
      "Number of repeat patients: \u001b[1m48,228\u001b[0m\n"
     ]
    }
   ],
   "source": [
    "# Check the total number of patients and whether any had more than one appointment (repeat patients).\n",
    "print(\"Number of unique patients:\",'\\033[1m' + f'{df_.PatientId.nunique():,}' + '\\033[0m')\n",
    "print(\"Number of repeat patients:\",'\\033[1m' + f'{df_.PatientId.duplicated().sum():,}' + '\\033[0m')"
   ]
  },
  {
   "cell_type": "code",
   "execution_count": 38,
   "metadata": {},
   "outputs": [
    {
     "data": {
      "image/png": "[encoded data removed]",
      "text/plain": [
       "<Figure size 640x480 with 1 Axes>"
      ]
     },
     "metadata": {},
     "output_type": "display_data"
    }
   ],
   "source": [
    "import matplotlib.pyplot as plt\n",
    "\n",
    "# Assuming 'df' is your DataFrame and 'PatientId' is the name of the column\n",
    "\n",
    "# Check the total number of patients and whether any had more than one appointment (repeat patients)\n",
    "total_patients = df_['PatientId'].nunique()\n",
    "repeat_patients = df_['PatientId'].duplicated().sum()\n",
    "new_patient = total_patients - repeat_patients\n",
    "\n",
    "# Create a bar plot\n",
    "x = ['New Patients', 'Repeat Patients']\n",
    "y = [new_patient, repeat_patients]\n",
    "\n",
    "plt.bar(x, y)\n",
    "plt.xlabel('Patient Type')\n",
    "plt.ylabel('Count')\n",
    "plt.title('Number of New Patients vs Repeat Patients')\n",
    "\n",
    "# Add labels to the bars\n",
    "for i in range(len(x)):\n",
    "    plt.text(i, y[i], str(y[i]), ha='center', va='bottom')\n",
    "\n",
    "plt.show()\n"
   ]
  },
  {
   "attachments": {},
   "cell_type": "markdown",
   "metadata": {},
   "source": []
  }
 ],
 "metadata": {
  "kernelspec": {
   "display_name": "shav_",
   "language": "python",
   "name": "python3"
  },
  "language_info": {
   "codemirror_mode": {
    "name": "ipython",
    "version": 3
   },
   "file_extension": ".py",
   "mimetype": "text/x-python",
   "name": "python",
   "nbconvert_exporter": "python",
   "pygments_lexer": "ipython3",
   "version": "3.10.9"
  },
  "orig_nbformat": 4
 },
 "nbformat": 4,
 "nbformat_minor": 2
}
